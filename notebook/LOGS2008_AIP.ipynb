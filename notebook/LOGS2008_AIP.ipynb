{
 "cells": [
  {
   "cell_type": "markdown",
   "metadata": {
    "id": "4cebLGAnR1yd"
   },
   "source": [
    "# <center>LOGS2008 AIP Project (Group D4)</center>\n",
    "----------------------------------------------------------------------\n",
    "----------------------------------------------------------------------\n",
    "#### Group: D4\n",
    "1. Nishi Agrawal (500199806)\n",
    "2. Kiranmayee Porla (500200047)\n",
    "3. Keval Padsala (500199506)\n",
    "4. Siddharth Agarwal (500200420)\n",
    "5. Sahishn Gaddam(500199700)\n",
    "6. Vaibhav Kumar(500199531)"
   ]
  },
  {
   "cell_type": "markdown",
   "metadata": {
    "id": "tZXykwHATeuh"
   },
   "source": [
    "### Import required libraries."
   ]
  },
  {
   "cell_type": "code",
   "execution_count": 43,
   "metadata": {
    "id": "BbhU3JRzTC8t"
   },
   "outputs": [],
   "source": [
    "# This Python 3 environment comes with many helpful analytics libraries installed\n",
    "# It is defined by the kaggle/python docker image: https://github.com/kaggle/docker-python\n",
    "# For example, here's several helpful packages to load in \n",
    "\n",
    "# Imported Libraries\n",
    "\n",
    "import numpy as np # linear algebra\n",
    "import pandas as pd # data processing, CSV file I/O (e.g. pd.read_csv)\n",
    "# import tensorflow as tf\n",
    "import matplotlib.pyplot as plt\n",
    "import seaborn as sns\n",
    "from sklearn.manifold import TSNE\n",
    "from sklearn.decomposition import PCA, TruncatedSVD\n",
    "import matplotlib.patches as mpatches\n",
    "import time\n",
    "import string\n",
    "import re\n",
    "import math\n",
    "from tqdm import tqdm\n",
    "from plotly import graph_objs as go\n",
    "import plotly.express as px\n",
    "import plotly.figure_factory as ff\n",
    "\n",
    "# Classifier Libraries\n",
    "from sklearn.linear_model import LogisticRegression\n",
    "from sklearn.svm import SVC\n",
    "from sklearn.neighbors import KNeighborsClassifier\n",
    "from sklearn.tree import DecisionTreeClassifier\n",
    "from sklearn.ensemble import RandomForestClassifier\n",
    "import collections\n",
    "\n",
    "\n",
    "# Other Libraries\n",
    "from sklearn.model_selection import train_test_split\n",
    "from sklearn.pipeline import make_pipeline\n",
    "from imblearn.pipeline import make_pipeline as imbalanced_make_pipeline\n",
    "from imblearn.over_sampling import SMOTE\n",
    "from imblearn.under_sampling import RandomUnderSampler\n",
    "from imblearn.under_sampling import NearMiss\n",
    "from imblearn.metrics import classification_report_imbalanced\n",
    "from sklearn.metrics import precision_score, recall_score, f1_score, roc_auc_score, accuracy_score, classification_report\n",
    "from collections import Counter\n",
    "from sklearn.model_selection import GridSearchCV, KFold, StratifiedKFold\n",
    "import warnings\n",
    "warnings.filterwarnings(\"ignore\")"
   ]
  },
  {
   "cell_type": "code",
   "execution_count": 4,
   "metadata": {
    "id": "cuDWBU0ZseJg"
   },
   "outputs": [],
   "source": [
    "# Reference: https://www.kaggle.com/code/janiobachmann/credit-fraud-dealing-with-imbalanced-datasets"
   ]
  },
  {
   "cell_type": "markdown",
   "metadata": {
    "id": "92PogK3FTZRa"
   },
   "source": [
    "### Read the CSV file from the drive.\n"
   ]
  },
  {
   "cell_type": "code",
   "execution_count": 6,
   "metadata": {
    "colab": {
     "base_uri": "https://localhost:8080/"
    },
    "id": "861WuUYPR2JD",
    "outputId": "041d4697-f070-4628-e2f1-a415e0307d74"
   },
   "outputs": [
    {
     "name": "stdout",
     "output_type": "stream",
     "text": [
      "https://drive.google.com/uc?export=download&id=1NRUT6xPjpUnHWyn9rDA6I0n3Dhi2614j\n"
     ]
    }
   ],
   "source": [
    "urls = [\n",
    "    \"https://drive.google.com/file/d/1NRUT6xPjpUnHWyn9rDA6I0n3Dhi2614j/view?usp=sharing\",\"https://drive.google.com/file/d/1E6kMCJygtqqYtChih161R3NPq-Jr6Eyi/view?usp=sharing\",\n",
    "    \"https://drive.google.com/file/d/1Ke7ABoc5qrXFQ0Y9_Pt3tvGEzN8ESw3A/view?usp=sharing\",\"https://drive.google.com/file/d/1iyEaIeNY4PT3xYc5C0Qrn6cxzDdDIG_5/view?usp=sharing\",\n",
    "    \"https://drive.google.com/file/d/10tQBHKUohrapx08Wrrm-9qk3Xy3GJpkw/view?usp=sharing\",\"https://drive.google.com/file/d/1jIitiaGfaVd4qaU4JJkhdZr0TF9D35A9/view?usp=sharing\",\n",
    "    \"https://drive.google.com/file/d/1g-pBMPfSgqW9S1NEWKkMc3Aijo3KYwxW/view?usp=sharing\",\"https://drive.google.com/file/d/1H1yH-aVaB18LjDBfqsCakQRZjuQ5HZhh/view?usp=sharing\",\n",
    "    \"https://drive.google.com/file/d/1Qr4HV-TIf-Ybttd1rhGcpnC8gIyIcqd5/view?usp=sharing\"\n",
    "    ]\n",
    "\n",
    "train = None\n",
    "for url in urls[:1]:\n",
    "    new_url = 'https://drive.google.com/uc?export=download&id=' + url.split('/')[-2] #Save into temporary location or into heap\n",
    "    print(new_url)\n",
    "    if train is None:\n",
    "        train = pd.read_csv(new_url)\n",
    "    else:\n",
    "        temp_train = pd.read_csv(new_url)\n",
    "        train = pd.concat([train, temp_train], axis=0)\n"
   ]
  },
  {
   "cell_type": "markdown",
   "metadata": {
    "id": "iCehQ63SohPI"
   },
   "source": [
    "# EDA & Data Preperation\n",
    "\n"
   ]
  },
  {
   "cell_type": "markdown",
   "metadata": {
    "id": "5AyPl5AcpnG9"
   },
   "source": [
    "## Gather Sense of Our Data:\n",
    "<a id=\"gather\"></a>\n",
    "The first thing we must do is gather a <b> basic sense </b> of our data. Remember, except for the <b>transaction</b> and <b>amount</b> we dont know what the other columns are (due to privacy reasons). The only thing we know, is that those columns that are unknown have been scaled already.   \n",
    "\n",
    "<h3> Summary: </h3>\n",
    "<ul>\n",
    "<li>The transaction amount is relatively <b>small</b>. The mean of all the mounts made is approximately USD 88. </li>\n",
    "<li>There are no <b>\"Null\"</b> values, so we don't have to work on ways to replace values. </li>\n",
    "<li> Most of the transactions were <b>Non-Fraud</b> (99.83%) of the time, while <b>Fraud</b> transactions occurs (017%) of the time in the dataframe. </li>\n",
    "</ul>\n",
    "\n",
    "<h3> Feature Technicalities: </h3>\n",
    "<ul>\n",
    "<li> <b>PCA Transformation: </b>  The description of the data says that all the features went through a PCA transformation (Dimensionality Reduction technique) (Except for time and amount).</li>\n",
    "<li> <b>Scaling:</b> Keep in mind that in order to implement a PCA transformation features need to be previously scaled. (In this case, all the V features have been scaled or at least that is what we are assuming the people that develop the dataset did.)</li>\n",
    "</ul>"
   ]
  },
  {
   "cell_type": "code",
   "execution_count": 7,
   "metadata": {
    "colab": {
     "base_uri": "https://localhost:8080/"
    },
    "id": "VIao8auFS-ms",
    "outputId": "aab0d608-0cbd-4afc-c72a-a69d794e4c32"
   },
   "outputs": [
    {
     "data": {
      "text/plain": [
       "(33000, 31)"
      ]
     },
     "execution_count": 7,
     "metadata": {},
     "output_type": "execute_result"
    }
   ],
   "source": [
    "train.shape"
   ]
  },
  {
   "cell_type": "code",
   "execution_count": 8,
   "metadata": {
    "colab": {
     "base_uri": "https://localhost:8080/",
     "height": 300
    },
    "id": "zMIef7Oudr5_",
    "outputId": "62991410-51b5-4472-8782-e530ed3b3126"
   },
   "outputs": [
    {
     "data": {
      "text/html": [
       "<div>\n",
       "<style scoped>\n",
       "    .dataframe tbody tr th:only-of-type {\n",
       "        vertical-align: middle;\n",
       "    }\n",
       "\n",
       "    .dataframe tbody tr th {\n",
       "        vertical-align: top;\n",
       "    }\n",
       "\n",
       "    .dataframe thead th {\n",
       "        text-align: right;\n",
       "    }\n",
       "</style>\n",
       "<table border=\"1\" class=\"dataframe\">\n",
       "  <thead>\n",
       "    <tr style=\"text-align: right;\">\n",
       "      <th></th>\n",
       "      <th>Time</th>\n",
       "      <th>V1</th>\n",
       "      <th>V2</th>\n",
       "      <th>V3</th>\n",
       "      <th>V4</th>\n",
       "      <th>V5</th>\n",
       "      <th>V6</th>\n",
       "      <th>V7</th>\n",
       "      <th>V8</th>\n",
       "      <th>V9</th>\n",
       "      <th>...</th>\n",
       "      <th>V21</th>\n",
       "      <th>V22</th>\n",
       "      <th>V23</th>\n",
       "      <th>V24</th>\n",
       "      <th>V25</th>\n",
       "      <th>V26</th>\n",
       "      <th>V27</th>\n",
       "      <th>V28</th>\n",
       "      <th>Amount</th>\n",
       "      <th>Class</th>\n",
       "    </tr>\n",
       "  </thead>\n",
       "  <tbody>\n",
       "    <tr>\n",
       "      <th>0</th>\n",
       "      <td>0</td>\n",
       "      <td>-1.359807</td>\n",
       "      <td>-0.072781</td>\n",
       "      <td>2.536347</td>\n",
       "      <td>1.378155</td>\n",
       "      <td>-0.338321</td>\n",
       "      <td>0.462388</td>\n",
       "      <td>0.239599</td>\n",
       "      <td>0.098698</td>\n",
       "      <td>0.363787</td>\n",
       "      <td>...</td>\n",
       "      <td>-0.018307</td>\n",
       "      <td>0.277838</td>\n",
       "      <td>-0.110474</td>\n",
       "      <td>0.066928</td>\n",
       "      <td>0.128539</td>\n",
       "      <td>-0.189115</td>\n",
       "      <td>0.133558</td>\n",
       "      <td>-0.021053</td>\n",
       "      <td>149.62</td>\n",
       "      <td>0</td>\n",
       "    </tr>\n",
       "    <tr>\n",
       "      <th>1</th>\n",
       "      <td>0</td>\n",
       "      <td>1.191857</td>\n",
       "      <td>0.266151</td>\n",
       "      <td>0.166480</td>\n",
       "      <td>0.448154</td>\n",
       "      <td>0.060018</td>\n",
       "      <td>-0.082361</td>\n",
       "      <td>-0.078803</td>\n",
       "      <td>0.085102</td>\n",
       "      <td>-0.255425</td>\n",
       "      <td>...</td>\n",
       "      <td>-0.225775</td>\n",
       "      <td>-0.638672</td>\n",
       "      <td>0.101288</td>\n",
       "      <td>-0.339846</td>\n",
       "      <td>0.167170</td>\n",
       "      <td>0.125895</td>\n",
       "      <td>-0.008983</td>\n",
       "      <td>0.014724</td>\n",
       "      <td>2.69</td>\n",
       "      <td>0</td>\n",
       "    </tr>\n",
       "    <tr>\n",
       "      <th>2</th>\n",
       "      <td>1</td>\n",
       "      <td>-1.358354</td>\n",
       "      <td>-1.340163</td>\n",
       "      <td>1.773209</td>\n",
       "      <td>0.379780</td>\n",
       "      <td>-0.503198</td>\n",
       "      <td>1.800499</td>\n",
       "      <td>0.791461</td>\n",
       "      <td>0.247676</td>\n",
       "      <td>-1.514654</td>\n",
       "      <td>...</td>\n",
       "      <td>0.247998</td>\n",
       "      <td>0.771679</td>\n",
       "      <td>0.909412</td>\n",
       "      <td>-0.689281</td>\n",
       "      <td>-0.327642</td>\n",
       "      <td>-0.139097</td>\n",
       "      <td>-0.055353</td>\n",
       "      <td>-0.059752</td>\n",
       "      <td>378.66</td>\n",
       "      <td>0</td>\n",
       "    </tr>\n",
       "    <tr>\n",
       "      <th>3</th>\n",
       "      <td>1</td>\n",
       "      <td>-0.966272</td>\n",
       "      <td>-0.185226</td>\n",
       "      <td>1.792993</td>\n",
       "      <td>-0.863291</td>\n",
       "      <td>-0.010309</td>\n",
       "      <td>1.247203</td>\n",
       "      <td>0.237609</td>\n",
       "      <td>0.377436</td>\n",
       "      <td>-1.387024</td>\n",
       "      <td>...</td>\n",
       "      <td>-0.108300</td>\n",
       "      <td>0.005274</td>\n",
       "      <td>-0.190321</td>\n",
       "      <td>-1.175575</td>\n",
       "      <td>0.647376</td>\n",
       "      <td>-0.221929</td>\n",
       "      <td>0.062723</td>\n",
       "      <td>0.061458</td>\n",
       "      <td>123.50</td>\n",
       "      <td>0</td>\n",
       "    </tr>\n",
       "    <tr>\n",
       "      <th>4</th>\n",
       "      <td>2</td>\n",
       "      <td>-1.158233</td>\n",
       "      <td>0.877737</td>\n",
       "      <td>1.548718</td>\n",
       "      <td>0.403034</td>\n",
       "      <td>-0.407193</td>\n",
       "      <td>0.095921</td>\n",
       "      <td>0.592941</td>\n",
       "      <td>-0.270533</td>\n",
       "      <td>0.817739</td>\n",
       "      <td>...</td>\n",
       "      <td>-0.009431</td>\n",
       "      <td>0.798278</td>\n",
       "      <td>-0.137458</td>\n",
       "      <td>0.141267</td>\n",
       "      <td>-0.206010</td>\n",
       "      <td>0.502292</td>\n",
       "      <td>0.219422</td>\n",
       "      <td>0.215153</td>\n",
       "      <td>69.99</td>\n",
       "      <td>0</td>\n",
       "    </tr>\n",
       "  </tbody>\n",
       "</table>\n",
       "<p>5 rows × 31 columns</p>\n",
       "</div>"
      ],
      "text/plain": [
       "   Time        V1        V2        V3        V4        V5        V6        V7  \\\n",
       "0     0 -1.359807 -0.072781  2.536347  1.378155 -0.338321  0.462388  0.239599   \n",
       "1     0  1.191857  0.266151  0.166480  0.448154  0.060018 -0.082361 -0.078803   \n",
       "2     1 -1.358354 -1.340163  1.773209  0.379780 -0.503198  1.800499  0.791461   \n",
       "3     1 -0.966272 -0.185226  1.792993 -0.863291 -0.010309  1.247203  0.237609   \n",
       "4     2 -1.158233  0.877737  1.548718  0.403034 -0.407193  0.095921  0.592941   \n",
       "\n",
       "         V8        V9  ...       V21       V22       V23       V24       V25  \\\n",
       "0  0.098698  0.363787  ... -0.018307  0.277838 -0.110474  0.066928  0.128539   \n",
       "1  0.085102 -0.255425  ... -0.225775 -0.638672  0.101288 -0.339846  0.167170   \n",
       "2  0.247676 -1.514654  ...  0.247998  0.771679  0.909412 -0.689281 -0.327642   \n",
       "3  0.377436 -1.387024  ... -0.108300  0.005274 -0.190321 -1.175575  0.647376   \n",
       "4 -0.270533  0.817739  ... -0.009431  0.798278 -0.137458  0.141267 -0.206010   \n",
       "\n",
       "        V26       V27       V28  Amount  Class  \n",
       "0 -0.189115  0.133558 -0.021053  149.62      0  \n",
       "1  0.125895 -0.008983  0.014724    2.69      0  \n",
       "2 -0.139097 -0.055353 -0.059752  378.66      0  \n",
       "3 -0.221929  0.062723  0.061458  123.50      0  \n",
       "4  0.502292  0.219422  0.215153   69.99      0  \n",
       "\n",
       "[5 rows x 31 columns]"
      ]
     },
     "execution_count": 8,
     "metadata": {},
     "output_type": "execute_result"
    }
   ],
   "source": [
    "train.head()"
   ]
  },
  {
   "cell_type": "code",
   "execution_count": 9,
   "metadata": {
    "id": "KfLANCBpyvUE"
   },
   "outputs": [],
   "source": [
    "df = train.copy()"
   ]
  },
  {
   "cell_type": "code",
   "execution_count": 10,
   "metadata": {
    "colab": {
     "base_uri": "https://localhost:8080/",
     "height": 394
    },
    "id": "fvPQerXTzQT2",
    "outputId": "9eccce5e-78af-4f79-bf5e-e91b3108edd6"
   },
   "outputs": [
    {
     "data": {
      "text/html": [
       "<div>\n",
       "<style scoped>\n",
       "    .dataframe tbody tr th:only-of-type {\n",
       "        vertical-align: middle;\n",
       "    }\n",
       "\n",
       "    .dataframe tbody tr th {\n",
       "        vertical-align: top;\n",
       "    }\n",
       "\n",
       "    .dataframe thead th {\n",
       "        text-align: right;\n",
       "    }\n",
       "</style>\n",
       "<table border=\"1\" class=\"dataframe\">\n",
       "  <thead>\n",
       "    <tr style=\"text-align: right;\">\n",
       "      <th></th>\n",
       "      <th>Time</th>\n",
       "      <th>V1</th>\n",
       "      <th>V2</th>\n",
       "      <th>V3</th>\n",
       "      <th>V4</th>\n",
       "      <th>V5</th>\n",
       "      <th>V6</th>\n",
       "      <th>V7</th>\n",
       "      <th>V8</th>\n",
       "      <th>V9</th>\n",
       "      <th>...</th>\n",
       "      <th>V21</th>\n",
       "      <th>V22</th>\n",
       "      <th>V23</th>\n",
       "      <th>V24</th>\n",
       "      <th>V25</th>\n",
       "      <th>V26</th>\n",
       "      <th>V27</th>\n",
       "      <th>V28</th>\n",
       "      <th>Amount</th>\n",
       "      <th>Class</th>\n",
       "    </tr>\n",
       "  </thead>\n",
       "  <tbody>\n",
       "    <tr>\n",
       "      <th>count</th>\n",
       "      <td>33000.000000</td>\n",
       "      <td>33000.000000</td>\n",
       "      <td>33000.000000</td>\n",
       "      <td>33000.000000</td>\n",
       "      <td>33000.000000</td>\n",
       "      <td>33000.000000</td>\n",
       "      <td>33000.000000</td>\n",
       "      <td>33000.000000</td>\n",
       "      <td>33000.000000</td>\n",
       "      <td>33000.000000</td>\n",
       "      <td>...</td>\n",
       "      <td>33000.000000</td>\n",
       "      <td>33000.000000</td>\n",
       "      <td>33000.000000</td>\n",
       "      <td>33000.000000</td>\n",
       "      <td>33000.000000</td>\n",
       "      <td>33000.000000</td>\n",
       "      <td>33000.000000</td>\n",
       "      <td>33000.000000</td>\n",
       "      <td>33000.000000</td>\n",
       "      <td>33000.000000</td>\n",
       "    </tr>\n",
       "    <tr>\n",
       "      <th>mean</th>\n",
       "      <td>22863.576273</td>\n",
       "      <td>-0.212717</td>\n",
       "      <td>0.094354</td>\n",
       "      <td>0.719371</td>\n",
       "      <td>0.207249</td>\n",
       "      <td>-0.214965</td>\n",
       "      <td>0.091024</td>\n",
       "      <td>-0.119020</td>\n",
       "      <td>0.030317</td>\n",
       "      <td>0.296513</td>\n",
       "      <td>...</td>\n",
       "      <td>-0.032295</td>\n",
       "      <td>-0.116325</td>\n",
       "      <td>-0.041330</td>\n",
       "      <td>0.008909</td>\n",
       "      <td>0.135713</td>\n",
       "      <td>0.021901</td>\n",
       "      <td>0.012634</td>\n",
       "      <td>0.003601</td>\n",
       "      <td>82.492753</td>\n",
       "      <td>0.003091</td>\n",
       "    </tr>\n",
       "    <tr>\n",
       "      <th>std</th>\n",
       "      <td>12264.072984</td>\n",
       "      <td>1.856986</td>\n",
       "      <td>1.548224</td>\n",
       "      <td>1.576022</td>\n",
       "      <td>1.417916</td>\n",
       "      <td>1.401387</td>\n",
       "      <td>1.312597</td>\n",
       "      <td>1.275349</td>\n",
       "      <td>1.264098</td>\n",
       "      <td>1.247161</td>\n",
       "      <td>...</td>\n",
       "      <td>0.783579</td>\n",
       "      <td>0.641198</td>\n",
       "      <td>0.541109</td>\n",
       "      <td>0.591688</td>\n",
       "      <td>0.435529</td>\n",
       "      <td>0.507656</td>\n",
       "      <td>0.390800</td>\n",
       "      <td>0.305423</td>\n",
       "      <td>226.362467</td>\n",
       "      <td>0.055511</td>\n",
       "    </tr>\n",
       "    <tr>\n",
       "      <th>min</th>\n",
       "      <td>0.000000</td>\n",
       "      <td>-30.552380</td>\n",
       "      <td>-40.978852</td>\n",
       "      <td>-31.103685</td>\n",
       "      <td>-5.172595</td>\n",
       "      <td>-42.147898</td>\n",
       "      <td>-23.496714</td>\n",
       "      <td>-26.548144</td>\n",
       "      <td>-41.484823</td>\n",
       "      <td>-7.175097</td>\n",
       "      <td>...</td>\n",
       "      <td>-20.262054</td>\n",
       "      <td>-8.593642</td>\n",
       "      <td>-26.751119</td>\n",
       "      <td>-2.836627</td>\n",
       "      <td>-7.495741</td>\n",
       "      <td>-1.338556</td>\n",
       "      <td>-8.567638</td>\n",
       "      <td>-9.617915</td>\n",
       "      <td>0.000000</td>\n",
       "      <td>0.000000</td>\n",
       "    </tr>\n",
       "    <tr>\n",
       "      <th>25%</th>\n",
       "      <td>11062.000000</td>\n",
       "      <td>-0.958545</td>\n",
       "      <td>-0.477906</td>\n",
       "      <td>0.253096</td>\n",
       "      <td>-0.705571</td>\n",
       "      <td>-0.812300</td>\n",
       "      <td>-0.648402</td>\n",
       "      <td>-0.598393</td>\n",
       "      <td>-0.158103</td>\n",
       "      <td>-0.497292</td>\n",
       "      <td>...</td>\n",
       "      <td>-0.241636</td>\n",
       "      <td>-0.538443</td>\n",
       "      <td>-0.177749</td>\n",
       "      <td>-0.325250</td>\n",
       "      <td>-0.127981</td>\n",
       "      <td>-0.332326</td>\n",
       "      <td>-0.062938</td>\n",
       "      <td>-0.007293</td>\n",
       "      <td>6.900000</td>\n",
       "      <td>0.000000</td>\n",
       "    </tr>\n",
       "    <tr>\n",
       "      <th>50%</th>\n",
       "      <td>27867.500000</td>\n",
       "      <td>-0.241432</td>\n",
       "      <td>0.127486</td>\n",
       "      <td>0.838353</td>\n",
       "      <td>0.194988</td>\n",
       "      <td>-0.250113</td>\n",
       "      <td>-0.165412</td>\n",
       "      <td>-0.072185</td>\n",
       "      <td>0.039748</td>\n",
       "      <td>0.173510</td>\n",
       "      <td>...</td>\n",
       "      <td>-0.085486</td>\n",
       "      <td>-0.090974</td>\n",
       "      <td>-0.051406</td>\n",
       "      <td>0.062585</td>\n",
       "      <td>0.174829</td>\n",
       "      <td>-0.061237</td>\n",
       "      <td>0.008924</td>\n",
       "      <td>0.020947</td>\n",
       "      <td>20.635000</td>\n",
       "      <td>0.000000</td>\n",
       "    </tr>\n",
       "    <tr>\n",
       "      <th>75%</th>\n",
       "      <td>33365.000000</td>\n",
       "      <td>1.163276</td>\n",
       "      <td>0.769862</td>\n",
       "      <td>1.464740</td>\n",
       "      <td>1.093112</td>\n",
       "      <td>0.303302</td>\n",
       "      <td>0.477733</td>\n",
       "      <td>0.440323</td>\n",
       "      <td>0.300584</td>\n",
       "      <td>1.041645</td>\n",
       "      <td>...</td>\n",
       "      <td>0.090194</td>\n",
       "      <td>0.293200</td>\n",
       "      <td>0.075427</td>\n",
       "      <td>0.398387</td>\n",
       "      <td>0.420045</td>\n",
       "      <td>0.300631</td>\n",
       "      <td>0.088639</td>\n",
       "      <td>0.076431</td>\n",
       "      <td>74.990000</td>\n",
       "      <td>0.000000</td>\n",
       "    </tr>\n",
       "    <tr>\n",
       "      <th>max</th>\n",
       "      <td>37049.000000</td>\n",
       "      <td>1.960497</td>\n",
       "      <td>16.713389</td>\n",
       "      <td>4.101716</td>\n",
       "      <td>13.143668</td>\n",
       "      <td>34.099309</td>\n",
       "      <td>22.529298</td>\n",
       "      <td>36.677268</td>\n",
       "      <td>20.007208</td>\n",
       "      <td>10.392889</td>\n",
       "      <td>...</td>\n",
       "      <td>22.614889</td>\n",
       "      <td>5.805795</td>\n",
       "      <td>13.876221</td>\n",
       "      <td>4.014444</td>\n",
       "      <td>5.525093</td>\n",
       "      <td>3.517346</td>\n",
       "      <td>11.135740</td>\n",
       "      <td>5.678671</td>\n",
       "      <td>7879.420000</td>\n",
       "      <td>1.000000</td>\n",
       "    </tr>\n",
       "  </tbody>\n",
       "</table>\n",
       "<p>8 rows × 31 columns</p>\n",
       "</div>"
      ],
      "text/plain": [
       "               Time            V1            V2            V3            V4  \\\n",
       "count  33000.000000  33000.000000  33000.000000  33000.000000  33000.000000   \n",
       "mean   22863.576273     -0.212717      0.094354      0.719371      0.207249   \n",
       "std    12264.072984      1.856986      1.548224      1.576022      1.417916   \n",
       "min        0.000000    -30.552380    -40.978852    -31.103685     -5.172595   \n",
       "25%    11062.000000     -0.958545     -0.477906      0.253096     -0.705571   \n",
       "50%    27867.500000     -0.241432      0.127486      0.838353      0.194988   \n",
       "75%    33365.000000      1.163276      0.769862      1.464740      1.093112   \n",
       "max    37049.000000      1.960497     16.713389      4.101716     13.143668   \n",
       "\n",
       "                 V5            V6            V7            V8            V9  \\\n",
       "count  33000.000000  33000.000000  33000.000000  33000.000000  33000.000000   \n",
       "mean      -0.214965      0.091024     -0.119020      0.030317      0.296513   \n",
       "std        1.401387      1.312597      1.275349      1.264098      1.247161   \n",
       "min      -42.147898    -23.496714    -26.548144    -41.484823     -7.175097   \n",
       "25%       -0.812300     -0.648402     -0.598393     -0.158103     -0.497292   \n",
       "50%       -0.250113     -0.165412     -0.072185      0.039748      0.173510   \n",
       "75%        0.303302      0.477733      0.440323      0.300584      1.041645   \n",
       "max       34.099309     22.529298     36.677268     20.007208     10.392889   \n",
       "\n",
       "       ...           V21           V22           V23           V24  \\\n",
       "count  ...  33000.000000  33000.000000  33000.000000  33000.000000   \n",
       "mean   ...     -0.032295     -0.116325     -0.041330      0.008909   \n",
       "std    ...      0.783579      0.641198      0.541109      0.591688   \n",
       "min    ...    -20.262054     -8.593642    -26.751119     -2.836627   \n",
       "25%    ...     -0.241636     -0.538443     -0.177749     -0.325250   \n",
       "50%    ...     -0.085486     -0.090974     -0.051406      0.062585   \n",
       "75%    ...      0.090194      0.293200      0.075427      0.398387   \n",
       "max    ...     22.614889      5.805795     13.876221      4.014444   \n",
       "\n",
       "                V25           V26           V27           V28        Amount  \\\n",
       "count  33000.000000  33000.000000  33000.000000  33000.000000  33000.000000   \n",
       "mean       0.135713      0.021901      0.012634      0.003601     82.492753   \n",
       "std        0.435529      0.507656      0.390800      0.305423    226.362467   \n",
       "min       -7.495741     -1.338556     -8.567638     -9.617915      0.000000   \n",
       "25%       -0.127981     -0.332326     -0.062938     -0.007293      6.900000   \n",
       "50%        0.174829     -0.061237      0.008924      0.020947     20.635000   \n",
       "75%        0.420045      0.300631      0.088639      0.076431     74.990000   \n",
       "max        5.525093      3.517346     11.135740      5.678671   7879.420000   \n",
       "\n",
       "              Class  \n",
       "count  33000.000000  \n",
       "mean       0.003091  \n",
       "std        0.055511  \n",
       "min        0.000000  \n",
       "25%        0.000000  \n",
       "50%        0.000000  \n",
       "75%        0.000000  \n",
       "max        1.000000  \n",
       "\n",
       "[8 rows x 31 columns]"
      ]
     },
     "execution_count": 10,
     "metadata": {},
     "output_type": "execute_result"
    }
   ],
   "source": [
    "df.describe()"
   ]
  },
  {
   "cell_type": "code",
   "execution_count": 16,
   "metadata": {
    "colab": {
     "base_uri": "https://localhost:8080/"
    },
    "id": "xqr2WmMrzTJ1",
    "outputId": "ad1c23bf-d355-452c-aa90-9e6e2c15b33f"
   },
   "outputs": [
    {
     "name": "stdout",
     "output_type": "stream",
     "text": [
      "<class 'pandas.core.frame.DataFrame'>\n",
      "RangeIndex: 33000 entries, 0 to 32999\n",
      "Data columns (total 31 columns):\n",
      " #   Column  Non-Null Count  Dtype  \n",
      "---  ------  --------------  -----  \n",
      " 0   Time    33000 non-null  int64  \n",
      " 1   V1      33000 non-null  float64\n",
      " 2   V2      33000 non-null  float64\n",
      " 3   V3      33000 non-null  float64\n",
      " 4   V4      33000 non-null  float64\n",
      " 5   V5      33000 non-null  float64\n",
      " 6   V6      33000 non-null  float64\n",
      " 7   V7      33000 non-null  float64\n",
      " 8   V8      33000 non-null  float64\n",
      " 9   V9      33000 non-null  float64\n",
      " 10  V10     33000 non-null  float64\n",
      " 11  V11     33000 non-null  float64\n",
      " 12  V12     33000 non-null  float64\n",
      " 13  V13     33000 non-null  float64\n",
      " 14  V14     33000 non-null  float64\n",
      " 15  V15     33000 non-null  float64\n",
      " 16  V16     33000 non-null  float64\n",
      " 17  V17     33000 non-null  float64\n",
      " 18  V18     33000 non-null  float64\n",
      " 19  V19     33000 non-null  float64\n",
      " 20  V20     33000 non-null  float64\n",
      " 21  V21     33000 non-null  float64\n",
      " 22  V22     33000 non-null  float64\n",
      " 23  V23     33000 non-null  float64\n",
      " 24  V24     33000 non-null  float64\n",
      " 25  V25     33000 non-null  float64\n",
      " 26  V26     33000 non-null  float64\n",
      " 27  V27     33000 non-null  float64\n",
      " 28  V28     33000 non-null  float64\n",
      " 29  Amount  33000 non-null  float64\n",
      " 30  Class   33000 non-null  int64  \n",
      "dtypes: float64(29), int64(2)\n",
      "memory usage: 7.8 MB\n"
     ]
    }
   ],
   "source": [
    "df.info()"
   ]
  },
  {
   "cell_type": "code",
   "execution_count": 17,
   "metadata": {
    "colab": {
     "base_uri": "https://localhost:8080/"
    },
    "id": "9To_ZYu0zVw8",
    "outputId": "07e5af26-1b3d-41ee-a94e-74d3e64afa11"
   },
   "outputs": [
    {
     "data": {
      "text/plain": [
       "0    32898\n",
       "1      102\n",
       "Name: Class, dtype: int64"
      ]
     },
     "execution_count": 17,
     "metadata": {},
     "output_type": "execute_result"
    }
   ],
   "source": [
    "df['Class'].value_counts()"
   ]
  },
  {
   "cell_type": "code",
   "execution_count": 18,
   "metadata": {
    "colab": {
     "base_uri": "https://localhost:8080/"
    },
    "id": "dlxn4PkVzYM8",
    "outputId": "08321ea1-51e8-4f91-d5b9-25b64c0986b5"
   },
   "outputs": [
    {
     "data": {
      "text/plain": [
       "Class\n",
       "0    99.690909\n",
       "1     0.309091\n",
       "Name: Class, dtype: float64"
      ]
     },
     "execution_count": 18,
     "metadata": {},
     "output_type": "execute_result"
    }
   ],
   "source": [
    "(df.groupby('Class')['Class'].count()/df['Class'].count()) *100"
   ]
  },
  {
   "cell_type": "code",
   "execution_count": 19,
   "metadata": {
    "colab": {
     "base_uri": "https://localhost:8080/",
     "height": 257
    },
    "id": "Pu-s6dBRtQTL",
    "outputId": "20ba012e-2914-4b17-d2a7-4a7f4c0a4878"
   },
   "outputs": [
    {
     "data": {
      "image/png": "[encoded data removed]",
      "text/plain": [
       "<Figure size 432x288 with 1 Axes>"
      ]
     },
     "metadata": {},
     "output_type": "display_data"
    }
   ],
   "source": [
    "classes=df['Class'].value_counts()\n",
    "normal_share=classes[0]/df['Class'].count()*100\n",
    "fraud_share=classes[1]/df['Class'].count()*100\n",
    "\n",
    "\n",
    "labels = 'Non-Fraudalent', 'Fraudalent'\n",
    "sizes = [normal_share, fraud_share]\n",
    "explode = (0, 0.1) \n",
    "\n",
    "fig1, ax1 = plt.subplots()\n",
    "ax1.pie(sizes, explode=explode, labels=labels, autopct='%1.1f%%',\n",
    "        shadow=True, startangle=90)\n",
    "ax1.axis('equal')  # Equal aspect ratio ensures that pie is drawn as a circle.\n",
    "\n",
    "plt.show()"
   ]
  },
  {
   "cell_type": "code",
   "execution_count": 20,
   "metadata": {
    "colab": {
     "base_uri": "https://localhost:8080/"
    },
    "id": "1If6Uku6tQWl",
    "outputId": "dab664d5-9df9-45ab-a793-4806e587ce73"
   },
   "outputs": [
    {
     "name": "stdout",
     "output_type": "stream",
     "text": [
      "The percentage without churn prediction is  99.69 % of the dataset\n",
      "The percentage with churn prediction is  0.31 % of the dataset\n",
      "The ratio of imbalance is 0.31\n"
     ]
    }
   ],
   "source": [
    "print('The percentage without churn prediction is ', round(df['Class'].value_counts()[0]/len(df) * 100,2), '% of the dataset')\n",
    "print('The percentage with churn prediction is ', round(df['Class'].value_counts()[1]/len(df) * 100,2), '% of the dataset')\n",
    "print('The ratio of imbalance is', round(df['Class'].value_counts()[1]/df['Class'].value_counts()[0] * 100,2))"
   ]
  },
  {
   "cell_type": "code",
   "execution_count": 21,
   "metadata": {
    "colab": {
     "base_uri": "https://localhost:8080/",
     "height": 282
    },
    "id": "gv4GfxFGtetK",
    "outputId": "17e40043-a847-4227-db16-8ae35f5ab6ff"
   },
   "outputs": [
    {
     "data": {
      "image/png": "[encoded data removed]",
      "text/plain": [
       "<Figure size 1296x288 with 2 Axes>"
      ]
     },
     "metadata": {
      "needs_background": "light"
     },
     "output_type": "display_data"
    }
   ],
   "source": [
    "fig, ax = plt.subplots(1, 2, figsize=(18,4))\n",
    "\n",
    "amount_val = df['Amount'].values\n",
    "time_val = df['Time'].values\n",
    "\n",
    "sns.distplot(amount_val, ax=ax[0], color='r')\n",
    "ax[0].set_title('Distribution of Transaction Amount', fontsize=14)\n",
    "ax[0].set_xlim([min(amount_val), max(amount_val)])\n",
    "\n",
    "sns.distplot(time_val, ax=ax[1], color='b')\n",
    "ax[1].set_title('Distribution of Transaction Time', fontsize=14)\n",
    "ax[1].set_xlim([min(time_val), max(time_val)])\n",
    "\n",
    "\n",
    "\n",
    "plt.show()"
   ]
  },
  {
   "cell_type": "markdown",
   "metadata": {
    "id": "uOOygWDJpjkS"
   },
   "source": [
    "<h2> Scaling and Distributing </h2>\n",
    "<a id=\"distributing\"></a>\n",
    "In this phase of our kernel, we will first scale the columns comprise of <b>Time</b> and <b>Amount </b>. Time and amount should be scaled as the other columns. On the other hand, we need to also create a sub sample of the dataframe in order to have an equal amount of Fraud and Non-Fraud cases, helping our algorithms better understand patterns that determines whether a transaction is a fraud or not.\n",
    "\n",
    "<h3> What is a sub-Sample?</h3>\n",
    "In this scenario, our subsample will be a dataframe with a 50/50 ratio of fraud and non-fraud transactions. Meaning our sub-sample will have the same amount of fraud and non fraud transactions.\n",
    "\n",
    "<h3> Why do we create a sub-Sample?</h3>\n",
    "In the beginning of this notebook we saw that the original dataframe was heavily imbalanced! Using the original dataframe  will cause the following issues:\n",
    "<ul>\n",
    "<li><b>Overfitting: </b>Our classification models will assume that in most cases there are no frauds! What we want for our model is to be certain when a fraud occurs. </li>\n",
    "<li><b>Wrong Correlations:</b> Although we don't know what the \"V\" features stand for, it will be useful to understand how each of this features influence the result (Fraud or No Fraud) by having an imbalance dataframe we are not able to see the true correlations between the class and features. </li>\n",
    "</ul>\n",
    "\n",
    "<h3>Summary: </h3> \n",
    "<ul>\n",
    "<li> <b>Scaled amount </b> and <b> scaled time </b> are the columns with scaled values. </li>\n",
    "<li> There are <b>492 cases </b> of fraud in our dataset so we can randomly get 492 cases of non-fraud to create our new sub dataframe. </li>\n",
    "<li>We concat the 492 cases of fraud and non fraud, <b>creating a new sub-sample. </b></li>\n",
    "</ul>"
   ]
  },
  {
   "cell_type": "code",
   "execution_count": 22,
   "metadata": {
    "id": "HRydU0-1zbkO"
   },
   "outputs": [],
   "source": [
    "# Since most of our data has already been scaled we should scale the columns that are left to scale (Amount and Time)\n",
    "from sklearn.preprocessing import StandardScaler, RobustScaler\n",
    "\n",
    "# RobustScaler is less prone to outliers.\n",
    "\n",
    "std_scaler = StandardScaler()\n",
    "rob_scaler = RobustScaler()\n",
    "\n",
    "df['scaled_amount'] = rob_scaler.fit_transform(df['Amount'].values.reshape(-1,1))\n",
    "df['scaled_time'] = rob_scaler.fit_transform(df['Time'].values.reshape(-1,1))\n",
    "\n",
    "df.drop(['Time','Amount'], axis=1, inplace=True)"
   ]
  },
  {
   "cell_type": "code",
   "execution_count": 23,
   "metadata": {
    "colab": {
     "base_uri": "https://localhost:8080/",
     "height": 300
    },
    "id": "7jheTkIbtrmJ",
    "outputId": "0274d5c6-6ef5-4a62-d799-23eeebe60cc8"
   },
   "outputs": [
    {
     "data": {
      "text/html": [
       "<div>\n",
       "<style scoped>\n",
       "    .dataframe tbody tr th:only-of-type {\n",
       "        vertical-align: middle;\n",
       "    }\n",
       "\n",
       "    .dataframe tbody tr th {\n",
       "        vertical-align: top;\n",
       "    }\n",
       "\n",
       "    .dataframe thead th {\n",
       "        text-align: right;\n",
       "    }\n",
       "</style>\n",
       "<table border=\"1\" class=\"dataframe\">\n",
       "  <thead>\n",
       "    <tr style=\"text-align: right;\">\n",
       "      <th></th>\n",
       "      <th>scaled_amount</th>\n",
       "      <th>scaled_time</th>\n",
       "      <th>V1</th>\n",
       "      <th>V2</th>\n",
       "      <th>V3</th>\n",
       "      <th>V4</th>\n",
       "      <th>V5</th>\n",
       "      <th>V6</th>\n",
       "      <th>V7</th>\n",
       "      <th>V8</th>\n",
       "      <th>...</th>\n",
       "      <th>V20</th>\n",
       "      <th>V21</th>\n",
       "      <th>V22</th>\n",
       "      <th>V23</th>\n",
       "      <th>V24</th>\n",
       "      <th>V25</th>\n",
       "      <th>V26</th>\n",
       "      <th>V27</th>\n",
       "      <th>V28</th>\n",
       "      <th>Class</th>\n",
       "    </tr>\n",
       "  </thead>\n",
       "  <tbody>\n",
       "    <tr>\n",
       "      <th>0</th>\n",
       "      <td>1.894331</td>\n",
       "      <td>-1.249496</td>\n",
       "      <td>-1.359807</td>\n",
       "      <td>-0.072781</td>\n",
       "      <td>2.536347</td>\n",
       "      <td>1.378155</td>\n",
       "      <td>-0.338321</td>\n",
       "      <td>0.462388</td>\n",
       "      <td>0.239599</td>\n",
       "      <td>0.098698</td>\n",
       "      <td>...</td>\n",
       "      <td>0.251412</td>\n",
       "      <td>-0.018307</td>\n",
       "      <td>0.277838</td>\n",
       "      <td>-0.110474</td>\n",
       "      <td>0.066928</td>\n",
       "      <td>0.128539</td>\n",
       "      <td>-0.189115</td>\n",
       "      <td>0.133558</td>\n",
       "      <td>-0.021053</td>\n",
       "      <td>0</td>\n",
       "    </tr>\n",
       "    <tr>\n",
       "      <th>1</th>\n",
       "      <td>-0.263548</td>\n",
       "      <td>-1.249496</td>\n",
       "      <td>1.191857</td>\n",
       "      <td>0.266151</td>\n",
       "      <td>0.166480</td>\n",
       "      <td>0.448154</td>\n",
       "      <td>0.060018</td>\n",
       "      <td>-0.082361</td>\n",
       "      <td>-0.078803</td>\n",
       "      <td>0.085102</td>\n",
       "      <td>...</td>\n",
       "      <td>-0.069083</td>\n",
       "      <td>-0.225775</td>\n",
       "      <td>-0.638672</td>\n",
       "      <td>0.101288</td>\n",
       "      <td>-0.339846</td>\n",
       "      <td>0.167170</td>\n",
       "      <td>0.125895</td>\n",
       "      <td>-0.008983</td>\n",
       "      <td>0.014724</td>\n",
       "      <td>0</td>\n",
       "    </tr>\n",
       "    <tr>\n",
       "      <th>2</th>\n",
       "      <td>5.258114</td>\n",
       "      <td>-1.249451</td>\n",
       "      <td>-1.358354</td>\n",
       "      <td>-1.340163</td>\n",
       "      <td>1.773209</td>\n",
       "      <td>0.379780</td>\n",
       "      <td>-0.503198</td>\n",
       "      <td>1.800499</td>\n",
       "      <td>0.791461</td>\n",
       "      <td>0.247676</td>\n",
       "      <td>...</td>\n",
       "      <td>0.524980</td>\n",
       "      <td>0.247998</td>\n",
       "      <td>0.771679</td>\n",
       "      <td>0.909412</td>\n",
       "      <td>-0.689281</td>\n",
       "      <td>-0.327642</td>\n",
       "      <td>-0.139097</td>\n",
       "      <td>-0.055353</td>\n",
       "      <td>-0.059752</td>\n",
       "      <td>0</td>\n",
       "    </tr>\n",
       "    <tr>\n",
       "      <th>3</th>\n",
       "      <td>1.510721</td>\n",
       "      <td>-1.249451</td>\n",
       "      <td>-0.966272</td>\n",
       "      <td>-0.185226</td>\n",
       "      <td>1.792993</td>\n",
       "      <td>-0.863291</td>\n",
       "      <td>-0.010309</td>\n",
       "      <td>1.247203</td>\n",
       "      <td>0.237609</td>\n",
       "      <td>0.377436</td>\n",
       "      <td>...</td>\n",
       "      <td>-0.208038</td>\n",
       "      <td>-0.108300</td>\n",
       "      <td>0.005274</td>\n",
       "      <td>-0.190321</td>\n",
       "      <td>-1.175575</td>\n",
       "      <td>0.647376</td>\n",
       "      <td>-0.221929</td>\n",
       "      <td>0.062723</td>\n",
       "      <td>0.061458</td>\n",
       "      <td>0</td>\n",
       "    </tr>\n",
       "    <tr>\n",
       "      <th>4</th>\n",
       "      <td>0.724849</td>\n",
       "      <td>-1.249406</td>\n",
       "      <td>-1.158233</td>\n",
       "      <td>0.877737</td>\n",
       "      <td>1.548718</td>\n",
       "      <td>0.403034</td>\n",
       "      <td>-0.407193</td>\n",
       "      <td>0.095921</td>\n",
       "      <td>0.592941</td>\n",
       "      <td>-0.270533</td>\n",
       "      <td>...</td>\n",
       "      <td>0.408542</td>\n",
       "      <td>-0.009431</td>\n",
       "      <td>0.798278</td>\n",
       "      <td>-0.137458</td>\n",
       "      <td>0.141267</td>\n",
       "      <td>-0.206010</td>\n",
       "      <td>0.502292</td>\n",
       "      <td>0.219422</td>\n",
       "      <td>0.215153</td>\n",
       "      <td>0</td>\n",
       "    </tr>\n",
       "  </tbody>\n",
       "</table>\n",
       "<p>5 rows × 31 columns</p>\n",
       "</div>"
      ],
      "text/plain": [
       "   scaled_amount  scaled_time        V1        V2        V3        V4  \\\n",
       "0       1.894331    -1.249496 -1.359807 -0.072781  2.536347  1.378155   \n",
       "1      -0.263548    -1.249496  1.191857  0.266151  0.166480  0.448154   \n",
       "2       5.258114    -1.249451 -1.358354 -1.340163  1.773209  0.379780   \n",
       "3       1.510721    -1.249451 -0.966272 -0.185226  1.792993 -0.863291   \n",
       "4       0.724849    -1.249406 -1.158233  0.877737  1.548718  0.403034   \n",
       "\n",
       "         V5        V6        V7        V8  ...       V20       V21       V22  \\\n",
       "0 -0.338321  0.462388  0.239599  0.098698  ...  0.251412 -0.018307  0.277838   \n",
       "1  0.060018 -0.082361 -0.078803  0.085102  ... -0.069083 -0.225775 -0.638672   \n",
       "2 -0.503198  1.800499  0.791461  0.247676  ...  0.524980  0.247998  0.771679   \n",
       "3 -0.010309  1.247203  0.237609  0.377436  ... -0.208038 -0.108300  0.005274   \n",
       "4 -0.407193  0.095921  0.592941 -0.270533  ...  0.408542 -0.009431  0.798278   \n",
       "\n",
       "        V23       V24       V25       V26       V27       V28  Class  \n",
       "0 -0.110474  0.066928  0.128539 -0.189115  0.133558 -0.021053      0  \n",
       "1  0.101288 -0.339846  0.167170  0.125895 -0.008983  0.014724      0  \n",
       "2  0.909412 -0.689281 -0.327642 -0.139097 -0.055353 -0.059752      0  \n",
       "3 -0.190321 -1.175575  0.647376 -0.221929  0.062723  0.061458      0  \n",
       "4 -0.137458  0.141267 -0.206010  0.502292  0.219422  0.215153      0  \n",
       "\n",
       "[5 rows x 31 columns]"
      ]
     },
     "execution_count": 23,
     "metadata": {},
     "output_type": "execute_result"
    }
   ],
   "source": [
    "scaled_amount = df['scaled_amount']\n",
    "scaled_time = df['scaled_time']\n",
    "\n",
    "df.drop(['scaled_amount', 'scaled_time'], axis=1, inplace=True)\n",
    "df.insert(0, 'scaled_amount', scaled_amount)\n",
    "df.insert(1, 'scaled_time', scaled_time)\n",
    "\n",
    "# Amount and Time are Scaled!\n",
    "\n",
    "df.head()"
   ]
  },
  {
   "cell_type": "markdown",
   "metadata": {
    "id": "JB8H8jJ9t0lX"
   },
   "source": [
    "### Splitting the Data (Original DataFrame)\n",
    "<a id=\"splitting\"></a>\n",
    "Before proceeding with the <b> Random UnderSampling technique</b> we have to separate the orginal dataframe. <b> Why? for testing purposes, remember although we are splitting the data when implementing Random UnderSampling or OverSampling techniques, we want to test our models on the original testing set not on the testing set created by either of these techniques.</b> The main goal is to fit the model either with the dataframes that were undersample and oversample (in order for our models to detect the patterns), and test it on the original testing set.  "
   ]
  },
  {
   "cell_type": "code",
   "execution_count": 24,
   "metadata": {
    "colab": {
     "base_uri": "https://localhost:8080/"
    },
    "id": "6-qjb9gUp4St",
    "outputId": "bea18e5c-6912-4c3d-8c4c-0b10d9f82d0f"
   },
   "outputs": [
    {
     "name": "stdout",
     "output_type": "stream",
     "text": [
      "No Frauds 99.69 % of the dataset\n",
      "Frauds 0.31 % of the dataset\n",
      "Train: [ 6593  6594  6595 ... 32997 32998 32999] Test: [   0    1    2 ... 6734 6774 6820]\n",
      "Train: [    0     1     2 ... 32997 32998 32999] Test: [ 6593  6594  6595 ... 13213 13214 13215]\n",
      "Train: [    0     1     2 ... 32997 32998 32999] Test: [10497 10498 10568 ... 19822 19823 19824]\n",
      "Train: [    0     1     2 ... 32997 32998 32999] Test: [14338 15166 15204 ... 26404 26405 26406]\n",
      "Train: [    0     1     2 ... 26404 26405 26406] Test: [18466 18472 18773 ... 32997 32998 32999]\n",
      "----------------------------------------------------------------------------------------------------\n",
      "Label Distributions: \n",
      "\n",
      "[0.99693182 0.00306818]\n",
      "[0.99681818 0.00318182]\n"
     ]
    }
   ],
   "source": [
    "from sklearn.model_selection import train_test_split\n",
    "from sklearn.model_selection import KFold, StratifiedKFold\n",
    "from sklearn.model_selection import StratifiedShuffleSplit\n",
    "\n",
    "print('No Frauds', round(df['Class'].value_counts()[0]/len(df) * 100,2), '% of the dataset')\n",
    "print('Frauds', round(df['Class'].value_counts()[1]/len(df) * 100,2), '% of the dataset')\n",
    "\n",
    "X = df.drop('Class', axis=1)\n",
    "y = df['Class']\n",
    "\n",
    "sss = StratifiedKFold(n_splits=5, random_state=None, shuffle=False)\n",
    "\n",
    "for train_index, test_index in sss.split(X, y):\n",
    "    print(\"Train:\", train_index, \"Test:\", test_index)\n",
    "    original_Xtrain, original_Xtest = X.iloc[train_index], X.iloc[test_index]\n",
    "    original_ytrain, original_ytest = y.iloc[train_index], y.iloc[test_index]\n",
    "\n",
    "# We already have X_train and y_train for undersample data thats why I am using original to distinguish and to not overwrite these variables.\n",
    "# original_Xtrain, original_Xtest, original_ytrain, original_ytest = train_test_split(X, y, test_size=0.2, random_state=42)\n",
    "\n",
    "# Check the Distribution of the labels\n",
    "\n",
    "\n",
    "# Turn into an array\n",
    "original_Xtrain = original_Xtrain.values\n",
    "original_Xtest = original_Xtest.values\n",
    "original_ytrain = original_ytrain.values\n",
    "original_ytest = original_ytest.values\n",
    "\n",
    "# See if both the train and test label distribution are similarly distributed\n",
    "train_unique_label, train_counts_label = np.unique(original_ytrain, return_counts=True)\n",
    "test_unique_label, test_counts_label = np.unique(original_ytest, return_counts=True)\n",
    "print('-' * 100)\n",
    "\n",
    "print('Label Distributions: \\n')\n",
    "print(train_counts_label/ len(original_ytrain))\n",
    "print(test_counts_label/ len(original_ytest))"
   ]
  },
  {
   "cell_type": "markdown",
   "metadata": {
    "id": "Bd5WtTO6vFiw"
   },
   "source": [
    "### SMOTE Technique (Over-Sampling):\n",
    "<a id=\"smote\"></a>\n",
    "<img src=\"https://raw.githubusercontent.com/rikunert/SMOTE_visualisation/master/SMOTE_R_visualisation_3.png\", width=800>\n",
    "<b>SMOTE</b> stands for Synthetic Minority Over-sampling Technique.  Unlike Random UnderSampling, SMOTE creates new synthetic points in order to have an equal balance of the classes. This is another alternative for solving the \"class imbalance problems\". <br><br>\n",
    "\n",
    "\n",
    "<b> Understanding SMOTE: </b>\n",
    "<ul>\n",
    "<li> <b> Solving the Class Imbalance: </b> SMOTE creates synthetic points from the minority class in order to reach an equal balance between the minority and majority class. </li>\n",
    "<li><b>Location of the synthetic points: </b>   SMOTE picks the distance between the closest neighbors of the minority class, in between these distances it creates synthetic points. </li>\n",
    "<li> <b>Final Effect:  </b> More information is retained since we didn't have to delete any rows unlike in random undersampling.</li>\n",
    "<li><b> Accuracy || Time Tradeoff: </b> Although it is likely that SMOTE will be more accurate than random under-sampling, it will take more time to train since no rows are eliminated as previously stated.</li>\n",
    "\n",
    "</ul>\n",
    "\n",
    "### Cross Validation Overfitting Mistake:\n",
    "## Overfitting during Cross Validation:  \n",
    "In our undersample analysis I want to show you a common mistake I made that I want to share with all of you. It is simple, if you want to undersample or oversample your data you should not do it before cross validating. Why because you will be directly influencing the validation set before implementing cross-validation causing a \"data leakage\" problem. <b>In the following section you will see amazing precision and recall scores but in reality our data is overfitting!</b>\n",
    "### The Wrong Way:\n",
    "<img src=\"https://www.marcoaltini.com/uploads/1/3/2/3/13234002/2639934.jpg?401\"><br>\n",
    "\n",
    "As mentioned previously, if we get the minority class (\"Fraud) in our case, and create the synthetic points before cross validating we have a certain influence on the \"validation set\" of the cross validation process. Remember how cross validation works, let's assume we are splitting the data into 5 batches, 4/5 of the dataset will be the training set while 1/5 will be the validation set. The test set should not be touched! For that reason, we have to do the creation of synthetic datapoints \"during\" cross-validation and not before, just like below: <br>\n",
    "\n",
    "\n",
    "### The Right Way:\n",
    "<img src=\"https://www.marcoaltini.com/uploads/1/3/2/3/13234002/9101820.jpg?372\"> <br>\n",
    "As you see above, SMOTE occurs \"during\" cross validation and not \"prior\" to the cross validation process. Synthetic data are created only for the training set without affecting the validation set.\n",
    "\n",
    "\n",
    "\n",
    "\n",
    "**References**: \n",
    "<ul>\n",
    "<li><a src=\"https://www.marcoaltini.com/blog/dealing-with-imbalanced-data-undersampling-oversampling-and-proper-cross-validation\"> \n",
    "DEALING WITH IMBALANCED DATA: UNDERSAMPLING, OVERSAMPLING AND PROPER CROSS-VALIDATION </a></li> \n",
    "\n",
    "<li> <a src=\"http://rikunert.com/SMOTE_explained \"> SMOTE explained for noobs  </a></li>\n",
    "<li> <a src=\"https://www.youtube.com/watch?v=DQC_YE3I5ig&t=794s\"> Machine Learning - Over-& Undersampling - Python/ Scikit/ Scikit-Imblearn </a></li>\n",
    "</ul>"
   ]
  },
  {
   "cell_type": "markdown",
   "metadata": {},
   "source": [
    "### SMOTE Technique (Over-Sampling):"
   ]
  },
  {
   "cell_type": "code",
   "execution_count": 26,
   "metadata": {},
   "outputs": [],
   "source": [
    "from imblearn.over_sampling import SMOTE\n",
    "# SMOTE Technique (OverSampling) After splitting and Cross Validating\n",
    "sm = SMOTE(sampling_strategy=0.25, random_state=42)\n",
    "# Xsm_train, ysm_train = sm.fit_sample(X_train, y_train)\n",
    "\n",
    "\n",
    "# This will be the data were we are going to \n",
    "Xsm_train, ysm_train = sm.fit_resample(original_Xtrain, original_ytrain)"
   ]
  },
  {
   "cell_type": "code",
   "execution_count": 28,
   "metadata": {
    "colab": {
     "base_uri": "https://localhost:8080/"
    },
    "id": "Zt_2X1Hrh5oP",
    "outputId": "4e2c134d-7679-4f90-dc3c-0e39997c5bdc"
   },
   "outputs": [
    {
     "name": "stdout",
     "output_type": "stream",
     "text": [
      "(26400, 30)\n",
      "(26400,)\n",
      "(32898, 30)\n",
      "(32898,)\n"
     ]
    }
   ],
   "source": [
    "print(original_Xtrain.shape)\n",
    "print(original_ytrain.shape)\n",
    "print(Xsm_train.shape)\n",
    "print(ysm_train.shape)"
   ]
  },
  {
   "cell_type": "code",
   "execution_count": 39,
   "metadata": {},
   "outputs": [
    {
     "name": "stdout",
     "output_type": "stream",
     "text": [
      "Counter({0: 26319, 1: 6579})\n"
     ]
    }
   ],
   "source": [
    "from collections import Counter\n",
    "c = Counter(ysm_train)\n",
    "print(c)"
   ]
  },
  {
   "cell_type": "markdown",
   "metadata": {},
   "source": [
    "###  (Under-Sampling):\n"
   ]
  },
  {
   "cell_type": "code",
   "execution_count": 29,
   "metadata": {
    "id": "p9YGzoPcAAzy"
   },
   "outputs": [],
   "source": [
    "# Our data is already scaled we should split our training and test sets\n",
    "from sklearn.model_selection import train_test_split\n",
    "\n",
    "# This is explicitly used for undersampling.\n",
    "X_train, X_test, y_train, y_test = train_test_split(X, y, test_size=0.2, random_state=42)\n",
    "\n",
    "# Turn the values into an array for feeding the classification algorithms.\n",
    "X_train = X_train.values\n",
    "X_test = X_test.values\n",
    "y_train = y_train.values\n",
    "y_test = y_test.values"
   ]
  },
  {
   "cell_type": "code",
   "execution_count": null,
   "metadata": {},
   "outputs": [],
   "source": []
  },
  {
   "cell_type": "code",
   "execution_count": null,
   "metadata": {},
   "outputs": [],
   "source": []
  },
  {
   "cell_type": "code",
   "execution_count": 30,
   "metadata": {},
   "outputs": [],
   "source": [
    "def logistic_regression(X_train, y_train): # Logistic Regression \n",
    "    log_reg_params = {\"penalty\": ['l1', 'l2'], 'C': [0.001, 0.01, 0.1, 1, 10, 100, 1000]}\n",
    "    grid_log_reg = GridSearchCV(LogisticRegression(), log_reg_params)\n",
    "    grid_log_reg.fit(X_train, y_train)\n",
    "    log_reg = grid_log_reg.best_estimator_ # We automatically get the logistic regression with the best parameters.\n",
    "    return log_reg\n",
    "\n",
    "def knn(X_train, y_train): # KNN Classifier\n",
    "    knears_params = {\"n_neighbors\": list(range(2,5,1)), 'algorithm': ['auto', 'ball_tree', 'kd_tree', 'brute']}\n",
    "    grid_knears = GridSearchCV(KNeighborsClassifier(), knears_params)\n",
    "    grid_knears.fit(X_train, y_train)\n",
    "    knears_neighbors = grid_knears.best_estimator_ # KNears best estimator\n",
    "    return knears_neighbors\n",
    "\n",
    "def svc(X_train, y_train): # Support Vector Classifier\n",
    "    svc_params = {'C': [0.5, 0.7, 0.9, 1], 'kernel': ['rbf', 'poly', 'sigmoid', 'linear']}\n",
    "    grid_svc = GridSearchCV(SVC(), svc_params)\n",
    "    grid_svc.fit(X_train, y_train)\n",
    "    svc = grid_svc.best_estimator_ # SVC best estimator\n",
    "    return svc\n",
    "\n",
    "def decision_tree(X_train, y_train): # DecisionTree Classifier\n",
    "    tree_params = {\"criterion\": [\"gini\", \"entropy\"], \"max_depth\": list(range(2,4)), \"min_samples_leaf\": list(range(5,7))}\n",
    "    grid_tree = GridSearchCV(DecisionTreeClassifier(), tree_params)\n",
    "    grid_tree.fit(X_train, y_train)\n",
    "    tree_clf = grid_tree.best_estimator_ # tree best estimator\n",
    "    return tree_clf"
   ]
  },
  {
   "cell_type": "markdown",
   "metadata": {},
   "source": [
    "###  Model Execution:"
   ]
  },
  {
   "cell_type": "code",
   "execution_count": 32,
   "metadata": {},
   "outputs": [],
   "source": [
    "def model_execution(classifiers, X_train, y_train):\n",
    "    for model in classifiers:\n",
    "        if classifiers[model]['output'] is None:\n",
    "            classifiers[model]['output'] = classifiers[model]['function'](X_train, y_train)"
   ]
  },
  {
   "cell_type": "code",
   "execution_count": 98,
   "metadata": {},
   "outputs": [],
   "source": [
    "from sklearn.metrics import classification_report, confusion_matrix, ConfusionMatrixDisplay\n",
    "\n",
    "\n",
    "def model_evaluation(classifiers, X_test, y_test):\n",
    "    # Defining number of columns\n",
    "    n_cols, n_models = 3, len(classifiers)\n",
    "    n_rows = math.ceil(n_models/n_cols)\n",
    "\n",
    "    fig, ax = plt.subplots(n_rows, n_cols, figsize=(21, 7*n_rows))\n",
    "\n",
    "    i, j = 0, 0\n",
    "    for model in classifiers:\n",
    "        y_pred = classifiers[model]['output'].predict(X_test)\n",
    "        cm = confusion_matrix(y_test, y_pred)\n",
    "        \n",
    "        disp = ConfusionMatrixDisplay(confusion_matrix=cm)\n",
    "        disp = disp.plot(include_values=True, cmap='Blues', ax=ax[i, j])\n",
    "        disp.ax_.set_title('Confusion Matrix')\n",
    "    \n",
    "        # Generate report\n",
    "        report = classification_report(y_test, y_pred)\n",
    "        \n",
    "        ax[i, j].axis('off')\n",
    "        ax[i, j].set_title(f'{model} Classification Report')\n",
    "        ax[i, j].annotate(report, xy=(0.1, 0), xytext=(0, -10), xycoords='axes fraction', textcoords='offset pixels', va='top')\n",
    "\n",
    "        \n",
    "        if j==n_cols-1: j, i = 0, i+1\n",
    "        else: j+=1\n",
    "    \n",
    "    plt.subplots_adjust(hspace=0.5)\n",
    "    # plt.subplot_tool()\n",
    "    plt.show()"
   ]
  },
  {
   "cell_type": "markdown",
   "metadata": {},
   "source": [
    "### Execute above methods."
   ]
  },
  {
   "cell_type": "code",
   "execution_count": 35,
   "metadata": {},
   "outputs": [
    {
     "name": "stdout",
     "output_type": "stream",
     "text": [
      "(26400, 30)\n",
      "(26400,)\n"
     ]
    }
   ],
   "source": [
    "print(original_Xtrain.shape)\n",
    "print(original_ytrain.shape)"
   ]
  },
  {
   "cell_type": "code",
   "execution_count": 36,
   "metadata": {},
   "outputs": [],
   "source": [
    "classifiers = {\n",
    "    \"LogisiticRegression\": {'function': logistic_regression, 'output': None},\n",
    "    \"KNearest\": {'function': knn, 'output': None},\n",
    "    \"Support Vector Classifier\": {'function': svc, 'output': None},\n",
    "    \"DecisionTreeClassifier\": {'function': decision_tree, 'output': None}\n",
    "}"
   ]
  },
  {
   "cell_type": "code",
   "execution_count": 37,
   "metadata": {},
   "outputs": [],
   "source": [
    "X_train, y_train = original_Xtrain, original_ytrain"
   ]
  },
  {
   "cell_type": "code",
   "execution_count": 41,
   "metadata": {},
   "outputs": [],
   "source": [
    "model_execution(classifiers, X_train, y_train)"
   ]
  },
  {
   "cell_type": "code",
   "execution_count": 99,
   "metadata": {},
   "outputs": [
    {
     "data": {
      "image/png": "[encoded data removed]",
      "text/plain": [
       "<Figure size 1512x1008 with 10 Axes>"
      ]
     },
     "metadata": {
      "needs_background": "light"
     },
     "output_type": "display_data"
    }
   ],
   "source": [
    "model_evaluation(classifiers, X_test, y_test)"
   ]
  },
  {
   "cell_type": "code",
   "execution_count": null,
   "metadata": {
    "id": "Om3o7tlT1itF"
   },
   "outputs": [],
   "source": []
  },
  {
   "cell_type": "code",
   "execution_count": null,
   "metadata": {
    "id": "Zld5_pex1iyW"
   },
   "outputs": [],
   "source": []
  },
  {
   "cell_type": "code",
   "execution_count": null,
   "metadata": {
    "id": "6xHZRh2U1i1G"
   },
   "outputs": [],
   "source": []
  }
 ],
 "metadata": {
  "colab": {
   "provenance": []
  },
  "kernelspec": {
   "display_name": "Python 3 (ipykernel)",
   "language": "python",
   "name": "python3"
  },
  "language_info": {
   "codemirror_mode": {
    "name": "ipython",
    "version": 3
   },
   "file_extension": ".py",
   "mimetype": "text/x-python",
   "name": "python",
   "nbconvert_exporter": "python",
   "pygments_lexer": "ipython3",
   "version": "3.10.9"
  }
 },
 "nbformat": 4,
 "nbformat_minor": 1
}
